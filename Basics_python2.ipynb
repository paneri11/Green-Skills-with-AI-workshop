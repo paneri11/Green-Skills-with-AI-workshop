{
  "nbformat": 4,
  "nbformat_minor": 0,
  "metadata": {
    "colab": {
      "provenance": []
    },
    "kernelspec": {
      "name": "python3",
      "display_name": "Python 3"
    },
    "language_info": {
      "name": "python"
    }
  },
  "cells": [
    {
      "cell_type": "code",
      "execution_count": null,
      "metadata": {
        "colab": {
          "base_uri": "https://localhost:8080/"
        },
        "id": "btrG6Xk20_D9",
        "outputId": "f90d5a1c-3224-4a23-bfd1-1e1c0b455119"
      },
      "outputs": [
        {
          "output_type": "execute_result",
          "data": {
            "text/plain": [
              "7"
            ]
          },
          "metadata": {},
          "execution_count": 2
        }
      ],
      "source": [
        "3+4\n"
      ]
    },
    {
      "cell_type": "code",
      "source": [
        "3+10"
      ],
      "metadata": {
        "colab": {
          "base_uri": "https://localhost:8080/"
        },
        "id": "4IGHidIv1U-8",
        "outputId": "5a28a796-5bcc-4398-d584-d4cfd958ab3d"
      },
      "execution_count": null,
      "outputs": [
        {
          "output_type": "execute_result",
          "data": {
            "text/plain": [
              "13"
            ]
          },
          "metadata": {},
          "execution_count": 3
        }
      ]
    },
    {
      "cell_type": "code",
      "source": [
        "city_name = \"PUNJAB\"\n",
        "print(f\"City Name: {city_name}\")"
      ],
      "metadata": {
        "colab": {
          "base_uri": "https://localhost:8080/"
        },
        "id": "SZgYnPcK1sV9",
        "outputId": "ce070f4c-1891-4de2-fc33-78807965b288"
      },
      "execution_count": null,
      "outputs": [
        {
          "output_type": "stream",
          "name": "stdout",
          "text": [
            "City Name: PUNJAB\n"
          ]
        }
      ]
    },
    {
      "cell_type": "code",
      "source": [
        "celsius = 25\n",
        "fahr=(celsius * 1.8) + 32\n",
        "print(f\"Temperature: {celsius} degree Celsius\")\n",
        "print(f\"Temperature: {fahr} degree fahrenheit\")"
      ],
      "metadata": {
        "colab": {
          "base_uri": "https://localhost:8080/"
        },
        "id": "JXTVgTlh20-_",
        "outputId": "f5da5fe5-a7fc-46bd-d598-f157cb783090"
      },
      "execution_count": null,
      "outputs": [
        {
          "output_type": "stream",
          "name": "stdout",
          "text": [
            "Temperature: 25 degree Celsius\n",
            "Temperature: 77.0 degree fahrenheit\n"
          ]
        }
      ]
    },
    {
      "cell_type": "code",
      "source": [],
      "metadata": {
        "id": "suYU3ucg4c18"
      },
      "execution_count": null,
      "outputs": []
    },
    {
      "cell_type": "code",
      "source": [
        "carbon=float(input(\"enter the carbon footprint\"))\n",
        "print(f\"carbon footprint : {carbon} kg CO2.\")\n",
        "is_sustainable = carbon < 400\n",
        "print(f\"good boy\")"
      ],
      "metadata": {
        "id": "tQoP-e_54Uyl"
      },
      "execution_count": null,
      "outputs": []
    },
    {
      "cell_type": "code",
      "source": [
        "num=input(\"enter a number: \")\n",
        "ans=num.isdigit()\n",
        "print(ans)"
      ],
      "metadata": {
        "colab": {
          "base_uri": "https://localhost:8080/"
        },
        "id": "QozOAU-SCpkn",
        "outputId": "6851d431-27f2-4e93-e94e-ae89d5579b99"
      },
      "execution_count": null,
      "outputs": [
        {
          "output_type": "stream",
          "name": "stdout",
          "text": [
            "enter a number: money\n",
            "False\n"
          ]
        }
      ]
    },
    {
      "cell_type": "code",
      "source": [
        "a=[1,5,4,6,8]\n",
        "b=5\n",
        "if b in a:\n",
        "  print(\"hi shaurya\")\n",
        "else :\n",
        "  print(\"hi himanshu\")"
      ],
      "metadata": {
        "colab": {
          "base_uri": "https://localhost:8080/"
        },
        "id": "XBTomnJaEKgI",
        "outputId": "25cb240b-b3a6-4174-ee5c-963ef4f2315a"
      },
      "execution_count": null,
      "outputs": [
        {
          "output_type": "stream",
          "name": "stdout",
          "text": [
            "hi shaurya\n"
          ]
        }
      ]
    },
    {
      "cell_type": "code",
      "source": [
        "num1=int(input(\"enter first number :\"))\n",
        "num2=int(input(\"enter second number :\"))\n",
        "operator=input(\"enter operator (+,-,*,/,%)\")\n",
        "if(operator=='+'):\n",
        "  print(num1+num2)\n",
        "elif(operator=='-'):\n",
        "  print(num1-num2)\n",
        "elif(operator=='*'):\n",
        "  print(num1*num2)\n",
        "elif(operator=='/'):\n",
        "  print(num1/num2)\n",
        "elif(operator=='%'):\n",
        "  print(num1%num2)\n",
        "else:\n",
        "  print('wrong operator please')\n"
      ],
      "metadata": {
        "colab": {
          "base_uri": "https://localhost:8080/"
        },
        "id": "IzSo56t3GUb5",
        "outputId": "6f1badfd-4312-4965-8fb9-8ab03def1f18"
      },
      "execution_count": null,
      "outputs": [
        {
          "output_type": "stream",
          "name": "stdout",
          "text": [
            "enter first number :5\n",
            "enter second number :09\n",
            "enter operator (+,-,*,/,%)*\n",
            "45\n"
          ]
        }
      ]
    },
    {
      "cell_type": "code",
      "source": [],
      "metadata": {
        "id": "f7gdsj3pOpxG"
      },
      "execution_count": null,
      "outputs": []
    },
    {
      "cell_type": "code",
      "source": [
        "high_temp_threshold = 26\n",
        "high_temp_cities=[city for city in climate_data if city[\"temperature\"] > high_temp_threshold]\n",
        "print(\"cities with high temperatures (>26 C):\")\n",
        "for city in high_temp_cities:\n",
        "  print(f\"{city['city']}-{city['temperature']}C\")\n"
      ],
      "metadata": {
        "colab": {
          "base_uri": "https://localhost:8080/",
          "height": 211
        },
        "id": "RVZ0P60pLZaX",
        "outputId": "618284a1-4abe-4f9e-dff9-e9f7760d787a"
      },
      "execution_count": null,
      "outputs": [
        {
          "output_type": "error",
          "ename": "NameError",
          "evalue": "name 'climate_data' is not defined",
          "traceback": [
            "\u001b[0;31m---------------------------------------------------------------------------\u001b[0m",
            "\u001b[0;31mNameError\u001b[0m                                 Traceback (most recent call last)",
            "\u001b[0;32m<ipython-input-28-ecf5fa482c81>\u001b[0m in \u001b[0;36m<cell line: 2>\u001b[0;34m()\u001b[0m\n\u001b[1;32m      1\u001b[0m \u001b[0mhigh_temp_threshold\u001b[0m \u001b[0;34m=\u001b[0m \u001b[0;36m26\u001b[0m\u001b[0;34m\u001b[0m\u001b[0;34m\u001b[0m\u001b[0m\n\u001b[0;32m----> 2\u001b[0;31m \u001b[0mhigh_temp_cities\u001b[0m\u001b[0;34m=\u001b[0m\u001b[0;34m[\u001b[0m\u001b[0mcity\u001b[0m \u001b[0;32mfor\u001b[0m \u001b[0mcity\u001b[0m \u001b[0;32min\u001b[0m \u001b[0mclimate_data\u001b[0m \u001b[0;32mif\u001b[0m \u001b[0mcity\u001b[0m\u001b[0;34m[\u001b[0m\u001b[0;34m\"temperature\"\u001b[0m\u001b[0;34m]\u001b[0m \u001b[0;34m>\u001b[0m \u001b[0mhigh_temp_threshold\u001b[0m\u001b[0;34m]\u001b[0m\u001b[0;34m\u001b[0m\u001b[0;34m\u001b[0m\u001b[0m\n\u001b[0m\u001b[1;32m      3\u001b[0m \u001b[0mprint\u001b[0m\u001b[0;34m(\u001b[0m\u001b[0;34m\"cities with high temperatures (>26 C):\"\u001b[0m\u001b[0;34m)\u001b[0m\u001b[0;34m\u001b[0m\u001b[0;34m\u001b[0m\u001b[0m\n\u001b[1;32m      4\u001b[0m \u001b[0;32mfor\u001b[0m \u001b[0mcity\u001b[0m \u001b[0;32min\u001b[0m \u001b[0mhigh_temp_cities\u001b[0m\u001b[0;34m:\u001b[0m\u001b[0;34m\u001b[0m\u001b[0;34m\u001b[0m\u001b[0m\n\u001b[1;32m      5\u001b[0m   \u001b[0mprint\u001b[0m\u001b[0;34m(\u001b[0m\u001b[0;34mf\"{city['city']}-{city['temperature']}C\"\u001b[0m\u001b[0;34m)\u001b[0m\u001b[0;34m\u001b[0m\u001b[0;34m\u001b[0m\u001b[0m\n",
            "\u001b[0;31mNameError\u001b[0m: name 'climate_data' is not defined"
          ]
        }
      ]
    },
    {
      "cell_type": "code",
      "source": [
        "highest_footprint_city = max(climate_data,key+lambda city: city[\"carbon_footprint\"])\n",
        "print(f\"\\nCity with the highest carbon footprint:\")\n",
        "print(f\"{highest_footprint_city['city']-{highest_footprint_city['carbon_footprint']}}\")"
      ],
      "metadata": {
        "id": "5rIoR6SuRRm9"
      },
      "execution_count": null,
      "outputs": []
    },
    {
      "cell_type": "markdown",
      "source": [],
      "metadata": {
        "id": "ljFSAMNb1UiR"
      }
    },
    {
      "cell_type": "code",
      "source": [
        "energy = 1000\n",
        "emission = 0.475\n",
        "\n",
        "carbon_footprint = calculate_carbon_footprint(energy,emission)\n",
        "print(f\"carbon footprint: {carbon_footprint} kg CO2\")\n"
      ],
      "metadata": {
        "colab": {
          "base_uri": "https://localhost:8080/",
          "height": 193
        },
        "id": "qStWP3rhSkWX",
        "outputId": "cb9243ac-c111-45b0-e044-352e674d0c1e"
      },
      "execution_count": null,
      "outputs": [
        {
          "output_type": "error",
          "ename": "NameError",
          "evalue": "name 'calculate_carbon_footprint' is not defined",
          "traceback": [
            "\u001b[0;31m---------------------------------------------------------------------------\u001b[0m",
            "\u001b[0;31mNameError\u001b[0m                                 Traceback (most recent call last)",
            "\u001b[0;32m<ipython-input-29-8ce754097a10>\u001b[0m in \u001b[0;36m<cell line: 4>\u001b[0;34m()\u001b[0m\n\u001b[1;32m      2\u001b[0m \u001b[0memission\u001b[0m \u001b[0;34m=\u001b[0m \u001b[0;36m0.475\u001b[0m\u001b[0;34m\u001b[0m\u001b[0;34m\u001b[0m\u001b[0m\n\u001b[1;32m      3\u001b[0m \u001b[0;34m\u001b[0m\u001b[0m\n\u001b[0;32m----> 4\u001b[0;31m \u001b[0mcarbon_footprint\u001b[0m \u001b[0;34m=\u001b[0m \u001b[0mcalculate_carbon_footprint\u001b[0m\u001b[0;34m(\u001b[0m\u001b[0menergy\u001b[0m\u001b[0;34m,\u001b[0m\u001b[0memission\u001b[0m\u001b[0;34m)\u001b[0m\u001b[0;34m\u001b[0m\u001b[0;34m\u001b[0m\u001b[0m\n\u001b[0m\u001b[1;32m      5\u001b[0m \u001b[0mprint\u001b[0m\u001b[0;34m(\u001b[0m\u001b[0;34mf\"carbon footprint: {carbon_footprint} kg CO2\"\u001b[0m\u001b[0;34m)\u001b[0m\u001b[0;34m\u001b[0m\u001b[0;34m\u001b[0m\u001b[0m\n",
            "\u001b[0;31mNameError\u001b[0m: name 'calculate_carbon_footprint' is not defined"
          ]
        }
      ]
    },
    {
      "cell_type": "code",
      "source": [
        "leapy = lambda year: (year % 4 ==0 and year % 100 != 0) or (year % 400 ==0)\n",
        "\n",
        "year = int(input(\"Enter a year : \"))\n",
        "print(f\"{year} is a leap year : {leapy(year)}\")"
      ],
      "metadata": {
        "colab": {
          "base_uri": "https://localhost:8080/"
        },
        "id": "ATk1IecZP9Pr",
        "outputId": "db61c8a8-fc69-4ecf-f16a-4d0338d3250b"
      },
      "execution_count": null,
      "outputs": [
        {
          "output_type": "stream",
          "name": "stdout",
          "text": [
            "Enter a year : 1998\n",
            "1998 is a leap year : False\n"
          ]
        }
      ]
    },
    {
      "cell_type": "code",
      "source": [
        "import pandas as pd\n",
        "renewable_sources = [\"Solar\",\"Wind\",\"Hydropower\",\"Geothermal\",\"Biomass\"]\n",
        "data = {\n",
        "    \"Project\": [\"Solar Farm A\", \"Wind Turbine X\", \"Hydropower Y\", \"Solar Roof Z\", \"Geothermal Plant P\"],\n",
        "    \"Technology\": [\"Solar\", \"Wind\", \"Hydropower\", \"Solar\", \"Geothermal\"],\n",
        "    \"Capacity (MW)\": [150,300, 200, 50, 100],  # Megawatts\n",
        "    \"Cost (Million $)\": [200, 400, 350, 100, 250],  # Project cost\n",
        "    \"Location\": [\"California\", \"Texas\", \"Washington\", \"Nevada\", \"Idaho\"],\n",
        "    \"Completion Year\": [2023, 2024, 2022,2025,2023]\n",
        "}\n",
        "renewable_series = pd.Series(renewable_sources)\n",
        "print(\"renewable energy resources :\")\n",
        "#print(renewable_series)\n",
        "projects_df = pd.DataFrame(data)\n",
        "#projects_df.head()\n",
        "#projects_df.tail()\n",
        "#selected=projects_df.iloc[[1,2]]\n",
        "#print(selected)\n",
        "#projects_df.info()\n",
        "#projects_df.describe()\n"
      ],
      "metadata": {
        "colab": {
          "base_uri": "https://localhost:8080/"
        },
        "id": "UH86Rl6qRkDd",
        "outputId": "402aac7a-03c4-4f6f-93dc-31dbe9e2bb6d"
      },
      "execution_count": null,
      "outputs": [
        {
          "output_type": "stream",
          "name": "stdout",
          "text": [
            "renewable energy resources :\n"
          ]
        }
      ]
    },
    {
      "cell_type": "code",
      "source": [
        "import pandas as pd\n",
        "\n",
        "# Create DataFrame\n",
        "projects_df = pd.DataFrame(data)\n",
        "\n",
        "# Filter projects with capacity > 100 MW\n",
        "high_capacity_projects = projects_df[projects_df['Capacity (MW)'] > 100]\n",
        "\n",
        "# Display the result\n",
        "print(high_capacity_projects)\n",
        "\n"
      ],
      "metadata": {
        "colab": {
          "base_uri": "https://localhost:8080/",
          "height": 211
        },
        "id": "9qSP5QrxbQmP",
        "outputId": "a90f9643-93e2-4ec4-af08-44b2e1e3b5da"
      },
      "execution_count": null,
      "outputs": [
        {
          "output_type": "error",
          "ename": "NameError",
          "evalue": "name 'data' is not defined",
          "traceback": [
            "\u001b[0;31m---------------------------------------------------------------------------\u001b[0m",
            "\u001b[0;31mNameError\u001b[0m                                 Traceback (most recent call last)",
            "\u001b[0;32m<ipython-input-3-42dc2505071a>\u001b[0m in \u001b[0;36m<cell line: 4>\u001b[0;34m()\u001b[0m\n\u001b[1;32m      2\u001b[0m \u001b[0;34m\u001b[0m\u001b[0m\n\u001b[1;32m      3\u001b[0m \u001b[0;31m# Create DataFrame\u001b[0m\u001b[0;34m\u001b[0m\u001b[0;34m\u001b[0m\u001b[0m\n\u001b[0;32m----> 4\u001b[0;31m \u001b[0mprojects_df\u001b[0m \u001b[0;34m=\u001b[0m \u001b[0mpd\u001b[0m\u001b[0;34m.\u001b[0m\u001b[0mDataFrame\u001b[0m\u001b[0;34m(\u001b[0m\u001b[0mdata\u001b[0m\u001b[0;34m)\u001b[0m\u001b[0;34m\u001b[0m\u001b[0;34m\u001b[0m\u001b[0m\n\u001b[0m\u001b[1;32m      5\u001b[0m \u001b[0;34m\u001b[0m\u001b[0m\n\u001b[1;32m      6\u001b[0m \u001b[0;31m# Filter projects with capacity > 100 MW\u001b[0m\u001b[0;34m\u001b[0m\u001b[0;34m\u001b[0m\u001b[0m\n",
            "\u001b[0;31mNameError\u001b[0m: name 'data' is not defined"
          ]
        }
      ]
    },
    {
      "cell_type": "code",
      "source": [
        "import pandas as pd\n",
        "\n",
        "# Create DataFrame\n",
        "projects_df = pd.DataFrame(data)\n",
        "\n",
        "# Add a new column for cost per megawatt\n",
        "projects_df['Cost per MW ($)'] = projects_df['Cost (Million $)'] / projects_df['Capacity (MW)']\n",
        "\n",
        "# Display the updated DataFrame\n",
        "print(projects_df)\n",
        "\n",
        "\n",
        "#tot_capacity = projects_df[\"capacity\"]\n",
        "\n"
      ],
      "metadata": {
        "colab": {
          "base_uri": "https://localhost:8080/",
          "height": 211
        },
        "id": "coobGIojbjyJ",
        "outputId": "41f7d912-3992-4f46-b1c8-0168a4dbc139"
      },
      "execution_count": null,
      "outputs": [
        {
          "output_type": "error",
          "ename": "NameError",
          "evalue": "name 'data' is not defined",
          "traceback": [
            "\u001b[0;31m---------------------------------------------------------------------------\u001b[0m",
            "\u001b[0;31mNameError\u001b[0m                                 Traceback (most recent call last)",
            "\u001b[0;32m<ipython-input-2-77bfd12c2fb9>\u001b[0m in \u001b[0;36m<cell line: 4>\u001b[0;34m()\u001b[0m\n\u001b[1;32m      2\u001b[0m \u001b[0;34m\u001b[0m\u001b[0m\n\u001b[1;32m      3\u001b[0m \u001b[0;31m# Create DataFrame\u001b[0m\u001b[0;34m\u001b[0m\u001b[0;34m\u001b[0m\u001b[0m\n\u001b[0;32m----> 4\u001b[0;31m \u001b[0mprojects_df\u001b[0m \u001b[0;34m=\u001b[0m \u001b[0mpd\u001b[0m\u001b[0;34m.\u001b[0m\u001b[0mDataFrame\u001b[0m\u001b[0;34m(\u001b[0m\u001b[0mdata\u001b[0m\u001b[0;34m)\u001b[0m\u001b[0;34m\u001b[0m\u001b[0;34m\u001b[0m\u001b[0m\n\u001b[0m\u001b[1;32m      5\u001b[0m \u001b[0;34m\u001b[0m\u001b[0m\n\u001b[1;32m      6\u001b[0m \u001b[0;31m# Add a new column for cost per megawatt\u001b[0m\u001b[0;34m\u001b[0m\u001b[0;34m\u001b[0m\u001b[0m\n",
            "\u001b[0;31mNameError\u001b[0m: name 'data' is not defined"
          ]
        }
      ]
    },
    {
      "cell_type": "code",
      "source": [
        "import pandas as pd\n",
        "renewable_sources = [\"Solar\",\"Wind\",\"Hydropower\",\"Geothermal\",\"Biomass\"]\n",
        "data = {\n",
        "    \"Project\": [\"Solar Farm A\", \"Wind Turbine X\", \"Hydropower Y\", \"Solar Roof Z\", \"Geothermal Plant P\"],\n",
        "    \"Technology\": [\"Solar\", \"Wind\", \"Hydropower\", \"Solar\", \"Geothermal\"],\n",
        "    \"Capacity (MW)\": [150,300, 200, 50, 100],  # Megawatts\n",
        "    \"Cost (Million $)\": [200, 400, 350, 100, 250],  # Project cost\n",
        "    \"Location\": [\"California\", \"Texas\", \"Washington\", \"Nevada\", \"Idaho\"],\n",
        "    \"Completion Year\": [2023, 2024, 2022,2025,2023]\n",
        "}\n",
        "renewable_series = pd.Series(renewable_sources)\n",
        "projects_df = pd.DataFrame(data)\n",
        "\n",
        "grouped_data = projects_df.groupby(\"Technology\")[\"Capacity (MW)\"].sum()\n",
        "print(\"\\nTotal Capacity by Technology\")\n",
        "print(grouped_data)"
      ],
      "metadata": {
        "colab": {
          "base_uri": "https://localhost:8080/"
        },
        "id": "yGI0iAf8wwgp",
        "outputId": "1934ac17-e234-4679-f493-a72e56cfbde6"
      },
      "execution_count": null,
      "outputs": [
        {
          "output_type": "stream",
          "name": "stdout",
          "text": [
            "\n",
            "Total Capacity by Technology\n",
            "Technology\n",
            "Geothermal    100\n",
            "Hydropower    200\n",
            "Solar         200\n",
            "Wind          300\n",
            "Name: Capacity (MW), dtype: int64\n"
          ]
        }
      ]
    },
    {
      "cell_type": "code",
      "source": [
        "import numpy as np\n",
        "one_d_array = np.array([1,2,3])\n",
        "print(one_d_array)"
      ],
      "metadata": {
        "colab": {
          "base_uri": "https://localhost:8080/"
        },
        "id": "obNz5gkLxtXB",
        "outputId": "333531b2-ab97-4483-bce9-6a8bf67051eb"
      },
      "execution_count": null,
      "outputs": [
        {
          "output_type": "stream",
          "name": "stdout",
          "text": [
            "[1 2 3]\n"
          ]
        }
      ]
    },
    {
      "cell_type": "code",
      "source": [
        "two_d_array = np.array([[1,2,3],[3,4,5]])\n",
        "#print(two_d_array)\n",
        "#two_d_array.shape\n",
        "#two_d_array.ndim\n",
        "#two_d_array.dtype\n",
        "#two_d_array.size\n",
        "#two_d_array.itemsize\n",
        "reshape1=two_d_array.reshape(2,3)\n",
        "print(reshape1)"
      ],
      "metadata": {
        "colab": {
          "base_uri": "https://localhost:8080/"
        },
        "id": "uF8cKudVzYyY",
        "outputId": "5d08b9c9-631d-452b-c751-970616916f94"
      },
      "execution_count": null,
      "outputs": [
        {
          "output_type": "stream",
          "name": "stdout",
          "text": [
            "[[1 2 3]\n",
            " [3 4 5]]\n"
          ]
        }
      ]
    },
    {
      "cell_type": "code",
      "source": [
        "np.ones(3)\n",
        "np.zeros(6)\n",
        "np.random.random(3)\n"
      ],
      "metadata": {
        "colab": {
          "base_uri": "https://localhost:8080/"
        },
        "id": "WVZHIonc1d0m",
        "outputId": "4bd19afa-1d0e-4f0d-dd53-584caf27d784"
      },
      "execution_count": null,
      "outputs": [
        {
          "output_type": "execute_result",
          "data": {
            "text/plain": [
              "array([0.3433625 , 0.29780572, 0.33063346])"
            ]
          },
          "metadata": {},
          "execution_count": 26
        }
      ]
    },
    {
      "cell_type": "code",
      "source": [
        "array = np.full((3,3),10)\n",
        "print(array)"
      ],
      "metadata": {
        "colab": {
          "base_uri": "https://localhost:8080/"
        },
        "id": "xpEHcPMC2is2",
        "outputId": "1051e11f-843f-4e8c-bcfb-c4a59b77b3a6"
      },
      "execution_count": null,
      "outputs": [
        {
          "output_type": "stream",
          "name": "stdout",
          "text": [
            "[[10 10 10]\n",
            " [10 10 10]\n",
            " [10 10 10]]\n"
          ]
        }
      ]
    },
    {
      "cell_type": "code",
      "source": [
        "identity_array = np.identity(6)\n",
        "print(identity_array)"
      ],
      "metadata": {
        "colab": {
          "base_uri": "https://localhost:8080/"
        },
        "id": "0DB5g5CA2xqz",
        "outputId": "2bc633de-d062-4a19-fac3-8dc8ba997c58"
      },
      "execution_count": null,
      "outputs": [
        {
          "output_type": "stream",
          "name": "stdout",
          "text": [
            "[[1. 0. 0. 0. 0. 0.]\n",
            " [0. 1. 0. 0. 0. 0.]\n",
            " [0. 0. 1. 0. 0. 0.]\n",
            " [0. 0. 0. 1. 0. 0.]\n",
            " [0. 0. 0. 0. 1. 0.]\n",
            " [0. 0. 0. 0. 0. 1.]]\n"
          ]
        }
      ]
    },
    {
      "cell_type": "code",
      "source": [
        "import numpy as np\n",
        "array1 = np.arange(10)\n",
        "#print(array1)\n",
        "reshape1=array1.reshape(2,5)\n",
        "print(reshape1)\n",
        "transpose=reshape1.T\n",
        "print(transpose)\n",
        "print(transpose.flatten('F'))"
      ],
      "metadata": {
        "colab": {
          "base_uri": "https://localhost:8080/"
        },
        "id": "Vp0n9M0M3I4i",
        "outputId": "b0d1f7e2-1988-47ff-d22c-046ff5756d47"
      },
      "execution_count": null,
      "outputs": [
        {
          "output_type": "stream",
          "name": "stdout",
          "text": [
            "[[0 1 2 3 4]\n",
            " [5 6 7 8 9]]\n",
            "[[0 5]\n",
            " [1 6]\n",
            " [2 7]\n",
            " [3 8]\n",
            " [4 9]]\n",
            "[0 1 2 3 4 5 6 7 8 9]\n"
          ]
        }
      ]
    },
    {
      "cell_type": "code",
      "source": [
        "array1 = np.arange(0,10,2)\n",
        "print(array1)"
      ],
      "metadata": {
        "colab": {
          "base_uri": "https://localhost:8080/"
        },
        "id": "Pgn0siIG3Un-",
        "outputId": "584b7a43-617b-4a8a-8c04-99ad894a4e58"
      },
      "execution_count": null,
      "outputs": [
        {
          "output_type": "stream",
          "name": "stdout",
          "text": [
            "[0 2 4 6 8]\n"
          ]
        }
      ]
    },
    {
      "cell_type": "code",
      "source": [
        "linspace=np.linspace(5,10,3,endpoint=\"TRUE\" )\n",
        "print(linspace)"
      ],
      "metadata": {
        "colab": {
          "base_uri": "https://localhost:8080/"
        },
        "id": "FW-bugyt3sz_",
        "outputId": "78a285a3-def9-4560-9edf-cb6fb8c76441"
      },
      "execution_count": null,
      "outputs": [
        {
          "output_type": "stream",
          "name": "stdout",
          "text": [
            "[ 5.   7.5 10. ]\n"
          ]
        }
      ]
    },
    {
      "cell_type": "code",
      "source": [
        "linspace=np.linspace(0,100,10, retstep=\"TRUE\")\n",
        "print(linspace)"
      ],
      "metadata": {
        "colab": {
          "base_uri": "https://localhost:8080/"
        },
        "id": "YRhGN1_c4ENc",
        "outputId": "92b5881d-5e66-4144-bb9b-e5c2d94af4c4"
      },
      "execution_count": null,
      "outputs": [
        {
          "output_type": "stream",
          "name": "stdout",
          "text": [
            "(array([  0.        ,  11.11111111,  22.22222222,  33.33333333,\n",
            "        44.44444444,  55.55555556,  66.66666667,  77.77777778,\n",
            "        88.88888889, 100.        ]), 11.11111111111111)\n"
          ]
        }
      ]
    },
    {
      "cell_type": "code",
      "source": [],
      "metadata": {
        "id": "6KkKjrf148av"
      },
      "execution_count": null,
      "outputs": []
    },
    {
      "cell_type": "code",
      "source": [
        "num_data = np.array([11,22,33,44,55,66,77,88,99])\n",
        "#print(num_data[:])\n",
        "#print(num_data[::1])\n",
        "#print(num_data[::2])\n",
        "#print(num_data[::-1])\n",
        "num1 =num_data[:]\n",
        "num2 =num_data[:-1]\n",
        "if(num1==num2):\n",
        "  print(\"string is palindrome.\")\n",
        "else:\n",
        "  print(\"string is not a palindrome.\")"
      ],
      "metadata": {
        "colab": {
          "base_uri": "https://localhost:8080/",
          "height": 211
        },
        "id": "UnkwnCTk4yOH",
        "outputId": "80f99896-f847-492f-b002-dae9a72bee16"
      },
      "execution_count": null,
      "outputs": [
        {
          "output_type": "error",
          "ename": "ValueError",
          "evalue": "operands could not be broadcast together with shapes (9,) (8,) ",
          "traceback": [
            "\u001b[0;31m---------------------------------------------------------------------------\u001b[0m",
            "\u001b[0;31mValueError\u001b[0m                                Traceback (most recent call last)",
            "\u001b[0;32m<ipython-input-45-35bc07484a02>\u001b[0m in \u001b[0;36m<cell line: 8>\u001b[0;34m()\u001b[0m\n\u001b[1;32m      6\u001b[0m \u001b[0mnum1\u001b[0m \u001b[0;34m=\u001b[0m\u001b[0mnum_data\u001b[0m\u001b[0;34m[\u001b[0m\u001b[0;34m:\u001b[0m\u001b[0;34m]\u001b[0m\u001b[0;34m\u001b[0m\u001b[0;34m\u001b[0m\u001b[0m\n\u001b[1;32m      7\u001b[0m \u001b[0mnum2\u001b[0m \u001b[0;34m=\u001b[0m\u001b[0mnum_data\u001b[0m\u001b[0;34m[\u001b[0m\u001b[0;34m:\u001b[0m\u001b[0;34m-\u001b[0m\u001b[0;36m1\u001b[0m\u001b[0;34m]\u001b[0m\u001b[0;34m\u001b[0m\u001b[0;34m\u001b[0m\u001b[0m\n\u001b[0;32m----> 8\u001b[0;31m \u001b[0;32mif\u001b[0m\u001b[0;34m(\u001b[0m\u001b[0mnum1\u001b[0m\u001b[0;34m==\u001b[0m\u001b[0mnum2\u001b[0m\u001b[0;34m)\u001b[0m\u001b[0;34m:\u001b[0m\u001b[0;34m\u001b[0m\u001b[0;34m\u001b[0m\u001b[0m\n\u001b[0m\u001b[1;32m      9\u001b[0m   \u001b[0mprint\u001b[0m\u001b[0;34m(\u001b[0m\u001b[0;34m\"string is palindrome.\"\u001b[0m\u001b[0;34m)\u001b[0m\u001b[0;34m\u001b[0m\u001b[0;34m\u001b[0m\u001b[0m\n\u001b[1;32m     10\u001b[0m \u001b[0;32melse\u001b[0m\u001b[0;34m:\u001b[0m\u001b[0;34m\u001b[0m\u001b[0;34m\u001b[0m\u001b[0m\n",
            "\u001b[0;31mValueError\u001b[0m: operands could not be broadcast together with shapes (9,) (8,) "
          ]
        }
      ]
    },
    {
      "cell_type": "code",
      "source": [
        "import numpy as np\n",
        "energy_consumption = np.array([1200,3400,2900,1800,2500])\n",
        "reshaped_energy=energy_consumption.reshape(5,1)\n",
        "print(energy_consumption)\n",
        "print(\"Energy Consumption (in MWh) for Different Renewable Sources: \")\n",
        "print(energy_consumption)\n",
        "\n",
        "# Calculate the mean\n",
        "mean_consumption = np.mean(energy_consumption)\n",
        "print(\"Mean energy consumption (kWh):\", mean_consumption)\n",
        "\n",
        "# Calculate the median\n",
        "median_consumption = np.median(energy_consumption)\n",
        "print(\"Median energy consumption (kWh):\", median_consumption)\n",
        "\n",
        "# Calculate the standard deviation\n",
        "std_dev_consumption = np.std(energy_consumption)\n",
        "print(\"Standard deviation of energy consumption (kWh):\", std_dev_consumption)\n",
        "\n",
        "# Calculate the variance\n",
        "variance_consumption = np.var(energy_consumption)\n",
        "print(\"Variance of energy consumption (kWh):\", variance_consumption)"
      ],
      "metadata": {
        "colab": {
          "base_uri": "https://localhost:8080/"
        },
        "id": "jBeH88iE6myW",
        "outputId": "d0294adc-250d-40a9-ef88-def6608be73b"
      },
      "execution_count": null,
      "outputs": [
        {
          "output_type": "stream",
          "name": "stdout",
          "text": [
            "[1200 3400 2900 1800 2500]\n",
            "Energy Consumption (in MWh) for Different Renewable Sources: \n",
            "[1200 3400 2900 1800 2500]\n",
            "Mean energy consumption (kWh): 2360.0\n",
            "Median energy consumption (kWh): 2500.0\n",
            "Standard deviation of energy consumption (kWh): 781.2809993849844\n",
            "Variance of energy consumption (kWh): 610400.0\n"
          ]
        }
      ]
    }
  ]
}